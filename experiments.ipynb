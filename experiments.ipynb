{
 "metadata": {
  "language_info": {
   "codemirror_mode": {
    "name": "ipython",
    "version": 3
   },
   "file_extension": ".py",
   "mimetype": "text/x-python",
   "name": "python",
   "nbconvert_exporter": "python",
   "pygments_lexer": "ipython3",
   "version": "3.6.12-final"
  },
  "orig_nbformat": 2,
  "kernelspec": {
   "name": "Python 3.6.12 64-bit ('sweng': conda)",
   "display_name": "Python 3.6.12 64-bit ('sweng': conda)",
   "metadata": {
    "interpreter": {
     "hash": "143454d33e1ddccd38039a53995fb84978940c51a2c73edb41e217b40f411de2"
    }
   }
  }
 },
 "nbformat": 4,
 "nbformat_minor": 2,
 "cells": [
  {
   "cell_type": "code",
   "execution_count": 1,
   "metadata": {},
   "outputs": [],
   "source": [
    "import pandas as pd \n",
    "from utils import PgSQLConnector\n",
    "from models import ElectricityData"
   ]
  },
  {
   "cell_type": "code",
   "execution_count": 2,
   "metadata": {},
   "outputs": [],
   "source": [
    "from sqlalchemy.sql.expression import func"
   ]
  },
  {
   "cell_type": "code",
   "execution_count": 3,
   "metadata": {},
   "outputs": [],
   "source": [
    "import datetime as dt "
   ]
  },
  {
   "cell_type": "code",
   "execution_count": 4,
   "metadata": {},
   "outputs": [],
   "source": [
    "connection_conf = {'user_name':'dseng',\n",
    "                      'passwd':'jagan123',\n",
    "                      'host':'10.0.0.239',\n",
    "                      'database':'dseng'}"
   ]
  },
  {
   "cell_type": "code",
   "execution_count": 5,
   "metadata": {},
   "outputs": [],
   "source": [
    "with PgSQLConnector(connection_conf) as sql:\n",
    "    ele_records = sql.db_session.query(ElectricityData.usage_date,\n",
    "    ElectricityData.usage_in_kwh,\n",
    "    ElectricityData.date_time,\n",
    "    ElectricityData.day_type,\n",
    "    ElectricityData.is_holiday).limit(10)\n"
   ]
  },
  {
   "cell_type": "code",
   "execution_count": 6,
   "metadata": {},
   "outputs": [
    {
     "output_type": "execute_result",
     "data": {
      "text/plain": [
       "[(datetime.date(2016, 10, 22),\n",
       "  0.01,\n",
       "  datetime.datetime(2016, 10, 22, 0, 14),\n",
       "  1,\n",
       "  False),\n",
       " (datetime.date(2016, 10, 22),\n",
       "  0.01,\n",
       "  datetime.datetime(2016, 10, 22, 0, 29),\n",
       "  1,\n",
       "  False),\n",
       " (datetime.date(2016, 10, 22),\n",
       "  0.01,\n",
       "  datetime.datetime(2016, 10, 22, 0, 44),\n",
       "  1,\n",
       "  False),\n",
       " (datetime.date(2016, 10, 22),\n",
       "  0.01,\n",
       "  datetime.datetime(2016, 10, 22, 0, 59),\n",
       "  1,\n",
       "  False),\n",
       " (datetime.date(2016, 10, 22),\n",
       "  0.01,\n",
       "  datetime.datetime(2016, 10, 22, 1, 14),\n",
       "  1,\n",
       "  False),\n",
       " (datetime.date(2016, 10, 22),\n",
       "  0.01,\n",
       "  datetime.datetime(2016, 10, 22, 1, 29),\n",
       "  1,\n",
       "  False),\n",
       " (datetime.date(2016, 10, 22),\n",
       "  0.01,\n",
       "  datetime.datetime(2016, 10, 22, 1, 44),\n",
       "  1,\n",
       "  False),\n",
       " (datetime.date(2016, 10, 22),\n",
       "  0.01,\n",
       "  datetime.datetime(2016, 10, 22, 1, 59),\n",
       "  1,\n",
       "  False),\n",
       " (datetime.date(2016, 10, 22),\n",
       "  0.02,\n",
       "  datetime.datetime(2016, 10, 22, 2, 14),\n",
       "  1,\n",
       "  False),\n",
       " (datetime.date(2016, 10, 22),\n",
       "  0.02,\n",
       "  datetime.datetime(2016, 10, 22, 2, 29),\n",
       "  1,\n",
       "  False)]"
      ]
     },
     "metadata": {},
     "execution_count": 6
    }
   ],
   "source": [
    "ele_records.all()"
   ]
  },
  {
   "cell_type": "code",
   "execution_count": 19,
   "metadata": {},
   "outputs": [],
   "source": [
    "with PgSQLConnector(connection_conf) as sql:\n",
    "    ele_records_a = sql.db_session.query(ElectricityData).filter(ElectricityData.is_holiday == True).limit(5)"
   ]
  },
  {
   "cell_type": "code",
   "execution_count": 21,
   "metadata": {},
   "outputs": [
    {
     "output_type": "stream",
     "name": "stdout",
     "text": [
      "5\n"
     ]
    },
    {
     "output_type": "execute_result",
     "data": {
      "text/plain": [
       "{'usage_type': 'Electric usage',\n",
       " 'usage_date': datetime.date(2016, 11, 11),\n",
       " 'start_time': datetime.time(0, 0),\n",
       " 'end_time': datetime.time(0, 14),\n",
       " 'usage_in_kwh': 0.08,\n",
       " 'units': 'kWh',\n",
       " 'cost_in_dollor': '$0.01',\n",
       " 'notes': None,\n",
       " 'cust_id': 'D202',\n",
       " 'rec_id': 1925,\n",
       " 'date_time': datetime.datetime(2016, 11, 11, 0, 14),\n",
       " 'day_type': 5,\n",
       " 'is_holiday': 1}"
      ]
     },
     "metadata": {},
     "execution_count": 21
    }
   ],
   "source": [
    "ele_records_a.all()[0].get_data()"
   ]
  },
  {
   "cell_type": "code",
   "execution_count": 5,
   "metadata": {},
   "outputs": [],
   "source": [
    "from models import RetailData"
   ]
  },
  {
   "cell_type": "code",
   "execution_count": 6,
   "metadata": {},
   "outputs": [],
   "source": [
    "with PgSQLConnector(connection_conf) as sql:\n",
    "    ret_records = sql.db_session.query(RetailData).filter(RetailData.total_cost < 1).limit(10)"
   ]
  },
  {
   "cell_type": "code",
   "execution_count": 7,
   "metadata": {},
   "outputs": [
    {
     "output_type": "execute_result",
     "data": {
      "text/plain": [
       "{'invoice': '580743',\n",
       " 'stock_code': '47591B',\n",
       " 'description': None,\n",
       " 'quantity': 1,\n",
       " 'invoice_date': datetime.datetime(2011, 12, 6, 9, 30),\n",
       " 'price': 0.0,\n",
       " 'cust_id': None,\n",
       " 'country': 'United Kingdom',\n",
       " 'hash_key': 'aa99f6565c7213d2442c5ae23d999011',\n",
       " 'total_cost': 0.0,\n",
       " 'cancelled_order': 0}"
      ]
     },
     "metadata": {},
     "execution_count": 7
    }
   ],
   "source": [
    "ret_records.all()[0].get_data()"
   ]
  },
  {
   "cell_type": "code",
   "execution_count": 10,
   "metadata": {},
   "outputs": [],
   "source": [
    "with PgSQLConnector(connection_conf) as sql:\n",
    "    ret_records = sql.db_session.query(RetailData).filter(RetailData.cancelled_order == True).limit(10)"
   ]
  },
  {
   "cell_type": "code",
   "execution_count": 12,
   "metadata": {},
   "outputs": [
    {
     "output_type": "execute_result",
     "data": {
      "text/plain": [
       "{'invoice': 'C537630',\n",
       " 'stock_code': 'AMAZONFEE',\n",
       " 'description': 'AMAZON FEE',\n",
       " 'quantity': -1,\n",
       " 'invoice_date': datetime.datetime(2010, 12, 7, 15, 4),\n",
       " 'price': 13541.33,\n",
       " 'cust_id': None,\n",
       " 'country': 'United Kingdom',\n",
       " 'hash_key': 'd64d09dad2bcb5f8a2b3282154a85472',\n",
       " 'total_cost': -13541.33,\n",
       " 'cancelled_order': 1}"
      ]
     },
     "metadata": {},
     "execution_count": 12
    }
   ],
   "source": [
    "ret_records[0].get_data()"
   ]
  },
  {
   "cell_type": "code",
   "execution_count": 14,
   "metadata": {},
   "outputs": [],
   "source": [
    "with PgSQLConnector(connection_conf) as sql:\n",
    "    ret_records = sql.db_session.query(RetailData).limit(10).all()"
   ]
  },
  {
   "cell_type": "code",
   "execution_count": 16,
   "metadata": {},
   "outputs": [
    {
     "output_type": "execute_result",
     "data": {
      "text/plain": [
       "{'_sa_instance_state': <sqlalchemy.orm.state.InstanceState at 0x1c823af97b8>,\n",
       " 'invoice_date': datetime.datetime(2010, 12, 8, 10, 11),\n",
       " 'description': 'PLASTERS IN TIN SKULLS',\n",
       " 'invoice': '537681',\n",
       " 'country': 'United Kingdom',\n",
       " 'price': 1.65,\n",
       " 'quantity': 24,\n",
       " 'stock_code': '22553',\n",
       " 'hash_key': 'acb655d115d059f31b9ad41acc3c1e6c',\n",
       " 'cust_id': 13329}"
      ]
     },
     "metadata": {},
     "execution_count": 16
    }
   ],
   "source": [
    "ret_records[0].__dict__"
   ]
  },
  {
   "cell_type": "code",
   "execution_count": 17,
   "metadata": {},
   "outputs": [],
   "source": [
    "import yaml"
   ]
  },
  {
   "cell_type": "code",
   "execution_count": 22,
   "metadata": {},
   "outputs": [],
   "source": [
    "with open(\"utils/secrets.yaml\",'r') as yml:\n",
    "    conf = yaml.safe_load(yml)"
   ]
  },
  {
   "cell_type": "code",
   "execution_count": 23,
   "metadata": {},
   "outputs": [
    {
     "output_type": "execute_result",
     "data": {
      "text/plain": [
       "{'user_name': 'dseng',\n",
       " 'passwd': 'jagan123',\n",
       " 'host': '10.0.0.239',\n",
       " 'database': 'dseng'}"
      ]
     },
     "metadata": {},
     "execution_count": 23
    }
   ],
   "source": [
    "conf"
   ]
  },
  {
   "cell_type": "code",
   "execution_count": 6,
   "metadata": {},
   "outputs": [
    {
     "output_type": "error",
     "ename": "NameError",
     "evalue": "name 'conf' is not defined",
     "traceback": [
      "\u001b[1;31m---------------------------------------------------------------------------\u001b[0m",
      "\u001b[1;31mNameError\u001b[0m                                 Traceback (most recent call last)",
      "\u001b[1;32m<ipython-input-6-8a53d5f03845>\u001b[0m in \u001b[0;36m<module>\u001b[1;34m\u001b[0m\n\u001b[1;32m----> 1\u001b[1;33m \u001b[1;32mwith\u001b[0m \u001b[0mPgSQLConnector\u001b[0m\u001b[1;33m(\u001b[0m\u001b[0mconf\u001b[0m\u001b[1;33m)\u001b[0m \u001b[1;32mas\u001b[0m \u001b[0mpgsql\u001b[0m\u001b[1;33m:\u001b[0m\u001b[1;33m\u001b[0m\u001b[1;33m\u001b[0m\u001b[0m\n\u001b[0m\u001b[0;32m      2\u001b[0m     \u001b[0mmq\u001b[0m \u001b[1;33m=\u001b[0m \u001b[0mpgsql\u001b[0m\u001b[1;33m.\u001b[0m\u001b[0mdb_session\u001b[0m\u001b[1;33m.\u001b[0m\u001b[0mquery\u001b[0m\u001b[1;33m(\u001b[0m\u001b[0mRetailData\u001b[0m\u001b[1;33m)\u001b[0m\u001b[1;33m.\u001b[0m\u001b[0mlimit\u001b[0m\u001b[1;33m(\u001b[0m\u001b[1;36m10\u001b[0m\u001b[1;33m)\u001b[0m\u001b[1;33m\u001b[0m\u001b[1;33m\u001b[0m\u001b[0m\n\u001b[0;32m      3\u001b[0m     \u001b[0mdata\u001b[0m \u001b[1;33m=\u001b[0m \u001b[0mpd\u001b[0m\u001b[1;33m.\u001b[0m\u001b[0mread_sql\u001b[0m\u001b[1;33m(\u001b[0m\u001b[0mmq\u001b[0m\u001b[1;33m.\u001b[0m\u001b[0mstatement\u001b[0m\u001b[1;33m,\u001b[0m\u001b[0mmq\u001b[0m\u001b[1;33m.\u001b[0m\u001b[0msession\u001b[0m\u001b[1;33m.\u001b[0m\u001b[0mbind\u001b[0m\u001b[1;33m)\u001b[0m\u001b[1;33m\u001b[0m\u001b[1;33m\u001b[0m\u001b[0m\n",
      "\u001b[1;31mNameError\u001b[0m: name 'conf' is not defined"
     ]
    }
   ],
   "source": [
    "with PgSQLConnector(conf) as pgsql:\n",
    "    mq = pgsql.db_session.query(RetailData).limit(10)\n",
    "    data = pd.read_sql(mq.statement,mq.session.bind)"
   ]
  },
  {
   "cell_type": "code",
   "execution_count": 26,
   "metadata": {},
   "outputs": [
    {
     "output_type": "execute_result",
     "data": {
      "text/plain": [
       "   invoice stock_code         description  quantity        invoice_date  \\\n",
       "0  C539073       POST             POSTAGE        -1 2010-12-15 17:08:00   \n",
       "1   567668      21676   FLOWERS  STICKERS         1 2011-09-21 15:29:00   \n",
       "2   567668      22419    LIPSTICK PEN RED         1 2011-09-21 15:29:00   \n",
       "3   567671      20775     DAISY NOTEBOOK          1 2011-09-21 15:34:00   \n",
       "4   567672      23323  WHITE WICKER STAR          5 2011-09-21 15:39:00   \n",
       "\n",
       "   price  cust_id         country                          hash_key  \n",
       "0   3.50  12971.0  United Kingdom  f402fa65f62cbb19b65fc18238620f3d  \n",
       "1   1.63      NaN  United Kingdom  7bdd7942ea7399f96e525deb192468df  \n",
       "2   0.83      NaN  United Kingdom  14c5f37d6c1086da97019885b17e1faa  \n",
       "3   1.63      NaN  United Kingdom  59e7eb86c2a4daa9f1d116e58f6b719e  \n",
       "4   2.10  16085.0  United Kingdom  3f3ad9e9e04b3a00d0758f3d27b428df  "
      ],
      "text/html": "<div>\n<style scoped>\n    .dataframe tbody tr th:only-of-type {\n        vertical-align: middle;\n    }\n\n    .dataframe tbody tr th {\n        vertical-align: top;\n    }\n\n    .dataframe thead th {\n        text-align: right;\n    }\n</style>\n<table border=\"1\" class=\"dataframe\">\n  <thead>\n    <tr style=\"text-align: right;\">\n      <th></th>\n      <th>invoice</th>\n      <th>stock_code</th>\n      <th>description</th>\n      <th>quantity</th>\n      <th>invoice_date</th>\n      <th>price</th>\n      <th>cust_id</th>\n      <th>country</th>\n      <th>hash_key</th>\n    </tr>\n  </thead>\n  <tbody>\n    <tr>\n      <th>0</th>\n      <td>C539073</td>\n      <td>POST</td>\n      <td>POSTAGE</td>\n      <td>-1</td>\n      <td>2010-12-15 17:08:00</td>\n      <td>3.50</td>\n      <td>12971.0</td>\n      <td>United Kingdom</td>\n      <td>f402fa65f62cbb19b65fc18238620f3d</td>\n    </tr>\n    <tr>\n      <th>1</th>\n      <td>567668</td>\n      <td>21676</td>\n      <td>FLOWERS  STICKERS</td>\n      <td>1</td>\n      <td>2011-09-21 15:29:00</td>\n      <td>1.63</td>\n      <td>NaN</td>\n      <td>United Kingdom</td>\n      <td>7bdd7942ea7399f96e525deb192468df</td>\n    </tr>\n    <tr>\n      <th>2</th>\n      <td>567668</td>\n      <td>22419</td>\n      <td>LIPSTICK PEN RED</td>\n      <td>1</td>\n      <td>2011-09-21 15:29:00</td>\n      <td>0.83</td>\n      <td>NaN</td>\n      <td>United Kingdom</td>\n      <td>14c5f37d6c1086da97019885b17e1faa</td>\n    </tr>\n    <tr>\n      <th>3</th>\n      <td>567671</td>\n      <td>20775</td>\n      <td>DAISY NOTEBOOK</td>\n      <td>1</td>\n      <td>2011-09-21 15:34:00</td>\n      <td>1.63</td>\n      <td>NaN</td>\n      <td>United Kingdom</td>\n      <td>59e7eb86c2a4daa9f1d116e58f6b719e</td>\n    </tr>\n    <tr>\n      <th>4</th>\n      <td>567672</td>\n      <td>23323</td>\n      <td>WHITE WICKER STAR</td>\n      <td>5</td>\n      <td>2011-09-21 15:39:00</td>\n      <td>2.10</td>\n      <td>16085.0</td>\n      <td>United Kingdom</td>\n      <td>3f3ad9e9e04b3a00d0758f3d27b428df</td>\n    </tr>\n  </tbody>\n</table>\n</div>"
     },
     "metadata": {},
     "execution_count": 26
    }
   ],
   "source": [
    "data.head()"
   ]
  },
  {
   "cell_type": "code",
   "execution_count": 6,
   "metadata": {},
   "outputs": [
    {
     "output_type": "error",
     "ename": "NameError",
     "evalue": "name 'total_cost' is not defined",
     "traceback": [
      "\u001b[1;31m---------------------------------------------------------------------------\u001b[0m",
      "\u001b[1;31mNameError\u001b[0m                                 Traceback (most recent call last)",
      "\u001b[1;32m<ipython-input-6-82812582221c>\u001b[0m in \u001b[0;36m<module>\u001b[1;34m\u001b[0m\n\u001b[0;32m      3\u001b[0m \u001b[1;33m\u001b[0m\u001b[0m\n\u001b[0;32m      4\u001b[0m \u001b[1;32mwith\u001b[0m \u001b[0mPgSQLConnector\u001b[0m\u001b[1;33m(\u001b[0m\u001b[0mconnection_conf\u001b[0m\u001b[1;33m)\u001b[0m \u001b[1;32mas\u001b[0m \u001b[0mpgsql\u001b[0m\u001b[1;33m:\u001b[0m\u001b[1;33m\u001b[0m\u001b[1;33m\u001b[0m\u001b[0m\n\u001b[1;32m----> 5\u001b[1;33m     \u001b[0mmq\u001b[0m \u001b[1;33m=\u001b[0m \u001b[0mpgsql\u001b[0m\u001b[1;33m.\u001b[0m\u001b[0mdb_session\u001b[0m\u001b[1;33m.\u001b[0m\u001b[0mquery\u001b[0m\u001b[1;33m(\u001b[0m\u001b[0mRetailData\u001b[0m\u001b[1;33m)\u001b[0m\u001b[1;33m.\u001b[0m\u001b[0moptions\u001b[0m\u001b[1;33m(\u001b[0m\u001b[0mload_only\u001b[0m\u001b[1;33m(\u001b[0m\u001b[1;33m*\u001b[0m\u001b[0mfields\u001b[0m\u001b[1;33m)\u001b[0m\u001b[1;33m)\u001b[0m\u001b[1;33m.\u001b[0m\u001b[0mlimit\u001b[0m\u001b[1;33m(\u001b[0m\u001b[1;36m10\u001b[0m\u001b[1;33m)\u001b[0m\u001b[1;33m\u001b[0m\u001b[1;33m\u001b[0m\u001b[0m\n\u001b[0m\u001b[0;32m      6\u001b[0m     \u001b[0mdata\u001b[0m \u001b[1;33m=\u001b[0m \u001b[0mpd\u001b[0m\u001b[1;33m.\u001b[0m\u001b[0mread_sql\u001b[0m\u001b[1;33m(\u001b[0m\u001b[0mmq\u001b[0m\u001b[1;33m.\u001b[0m\u001b[0mstatement\u001b[0m\u001b[1;33m,\u001b[0m\u001b[0mmq\u001b[0m\u001b[1;33m.\u001b[0m\u001b[0msession\u001b[0m\u001b[1;33m.\u001b[0m\u001b[0mbind\u001b[0m\u001b[1;33m)\u001b[0m\u001b[1;33m\u001b[0m\u001b[1;33m\u001b[0m\u001b[0m\n",
      "\u001b[1;32mD:\\anaconda2\\envs\\sweng\\lib\\site-packages\\sqlalchemy\\orm\\query.py\u001b[0m in \u001b[0;36moptions\u001b[1;34m(self, *args)\u001b[0m\n\u001b[0;32m   1612\u001b[0m         \"\"\"\n\u001b[0;32m   1613\u001b[0m \u001b[1;33m\u001b[0m\u001b[0m\n\u001b[1;32m-> 1614\u001b[1;33m         \u001b[1;32mreturn\u001b[0m \u001b[0mself\u001b[0m\u001b[1;33m.\u001b[0m\u001b[0m_options\u001b[0m\u001b[1;33m(\u001b[0m\u001b[1;32mFalse\u001b[0m\u001b[1;33m,\u001b[0m \u001b[1;33m*\u001b[0m\u001b[0margs\u001b[0m\u001b[1;33m)\u001b[0m\u001b[1;33m\u001b[0m\u001b[1;33m\u001b[0m\u001b[0m\n\u001b[0m\u001b[0;32m   1615\u001b[0m \u001b[1;33m\u001b[0m\u001b[0m\n\u001b[0;32m   1616\u001b[0m     \u001b[1;32mdef\u001b[0m \u001b[0m_conditional_options\u001b[0m\u001b[1;33m(\u001b[0m\u001b[0mself\u001b[0m\u001b[1;33m,\u001b[0m \u001b[1;33m*\u001b[0m\u001b[0margs\u001b[0m\u001b[1;33m)\u001b[0m\u001b[1;33m:\u001b[0m\u001b[1;33m\u001b[0m\u001b[1;33m\u001b[0m\u001b[0m\n",
      "\u001b[1;32m<string>\u001b[0m in \u001b[0;36m_options\u001b[1;34m(self, conditional, *args)\u001b[0m\n",
      "\u001b[1;32mD:\\anaconda2\\envs\\sweng\\lib\\site-packages\\sqlalchemy\\orm\\base.py\u001b[0m in \u001b[0;36mgenerate\u001b[1;34m(fn, *args, **kw)\u001b[0m\n\u001b[0;32m    225\u001b[0m         \u001b[1;32mfor\u001b[0m \u001b[0massertion\u001b[0m \u001b[1;32min\u001b[0m \u001b[0massertions\u001b[0m\u001b[1;33m:\u001b[0m\u001b[1;33m\u001b[0m\u001b[1;33m\u001b[0m\u001b[0m\n\u001b[0;32m    226\u001b[0m             \u001b[0massertion\u001b[0m\u001b[1;33m(\u001b[0m\u001b[0mself\u001b[0m\u001b[1;33m,\u001b[0m \u001b[0mfn\u001b[0m\u001b[1;33m.\u001b[0m\u001b[0m__name__\u001b[0m\u001b[1;33m)\u001b[0m\u001b[1;33m\u001b[0m\u001b[1;33m\u001b[0m\u001b[0m\n\u001b[1;32m--> 227\u001b[1;33m         \u001b[0mfn\u001b[0m\u001b[1;33m(\u001b[0m\u001b[0mself\u001b[0m\u001b[1;33m,\u001b[0m \u001b[1;33m*\u001b[0m\u001b[0margs\u001b[0m\u001b[1;33m[\u001b[0m\u001b[1;36m1\u001b[0m\u001b[1;33m:\u001b[0m\u001b[1;33m]\u001b[0m\u001b[1;33m,\u001b[0m \u001b[1;33m**\u001b[0m\u001b[0mkw\u001b[0m\u001b[1;33m)\u001b[0m\u001b[1;33m\u001b[0m\u001b[1;33m\u001b[0m\u001b[0m\n\u001b[0m\u001b[0;32m    228\u001b[0m         \u001b[1;32mreturn\u001b[0m \u001b[0mself\u001b[0m\u001b[1;33m\u001b[0m\u001b[1;33m\u001b[0m\u001b[0m\n\u001b[0;32m    229\u001b[0m \u001b[1;33m\u001b[0m\u001b[0m\n",
      "\u001b[1;32mD:\\anaconda2\\envs\\sweng\\lib\\site-packages\\sqlalchemy\\orm\\query.py\u001b[0m in \u001b[0;36m_options\u001b[1;34m(self, conditional, *args)\u001b[0m\n\u001b[0;32m   1631\u001b[0m         \u001b[1;32melse\u001b[0m\u001b[1;33m:\u001b[0m\u001b[1;33m\u001b[0m\u001b[1;33m\u001b[0m\u001b[0m\n\u001b[0;32m   1632\u001b[0m             \u001b[1;32mfor\u001b[0m \u001b[0mopt\u001b[0m \u001b[1;32min\u001b[0m \u001b[0mopts\u001b[0m\u001b[1;33m:\u001b[0m\u001b[1;33m\u001b[0m\u001b[1;33m\u001b[0m\u001b[0m\n\u001b[1;32m-> 1633\u001b[1;33m                 \u001b[0mopt\u001b[0m\u001b[1;33m.\u001b[0m\u001b[0mprocess_query\u001b[0m\u001b[1;33m(\u001b[0m\u001b[0mself\u001b[0m\u001b[1;33m)\u001b[0m\u001b[1;33m\u001b[0m\u001b[1;33m\u001b[0m\u001b[0m\n\u001b[0m\u001b[0;32m   1634\u001b[0m \u001b[1;33m\u001b[0m\u001b[0m\n\u001b[0;32m   1635\u001b[0m     \u001b[1;32mdef\u001b[0m \u001b[0mwith_transformation\u001b[0m\u001b[1;33m(\u001b[0m\u001b[0mself\u001b[0m\u001b[1;33m,\u001b[0m \u001b[0mfn\u001b[0m\u001b[1;33m)\u001b[0m\u001b[1;33m:\u001b[0m\u001b[1;33m\u001b[0m\u001b[1;33m\u001b[0m\u001b[0m\n",
      "\u001b[1;32mD:\\anaconda2\\envs\\sweng\\lib\\site-packages\\sqlalchemy\\orm\\strategy_options.py\u001b[0m in \u001b[0;36mprocess_query\u001b[1;34m(self, query)\u001b[0m\n\u001b[0;32m    173\u001b[0m \u001b[1;33m\u001b[0m\u001b[0m\n\u001b[0;32m    174\u001b[0m     \u001b[1;32mdef\u001b[0m \u001b[0mprocess_query\u001b[0m\u001b[1;33m(\u001b[0m\u001b[0mself\u001b[0m\u001b[1;33m,\u001b[0m \u001b[0mquery\u001b[0m\u001b[1;33m)\u001b[0m\u001b[1;33m:\u001b[0m\u001b[1;33m\u001b[0m\u001b[1;33m\u001b[0m\u001b[0m\n\u001b[1;32m--> 175\u001b[1;33m         \u001b[0mself\u001b[0m\u001b[1;33m.\u001b[0m\u001b[0m_process\u001b[0m\u001b[1;33m(\u001b[0m\u001b[0mquery\u001b[0m\u001b[1;33m,\u001b[0m \u001b[1;32mTrue\u001b[0m\u001b[1;33m)\u001b[0m\u001b[1;33m\u001b[0m\u001b[1;33m\u001b[0m\u001b[0m\n\u001b[0m\u001b[0;32m    176\u001b[0m \u001b[1;33m\u001b[0m\u001b[0m\n\u001b[0;32m    177\u001b[0m     \u001b[1;32mdef\u001b[0m \u001b[0mprocess_query_conditionally\u001b[0m\u001b[1;33m(\u001b[0m\u001b[0mself\u001b[0m\u001b[1;33m,\u001b[0m \u001b[0mquery\u001b[0m\u001b[1;33m)\u001b[0m\u001b[1;33m:\u001b[0m\u001b[1;33m\u001b[0m\u001b[1;33m\u001b[0m\u001b[0m\n",
      "\u001b[1;32mD:\\anaconda2\\envs\\sweng\\lib\\site-packages\\sqlalchemy\\orm\\strategy_options.py\u001b[0m in \u001b[0;36m_process\u001b[1;34m(self, query, raiseerr)\u001b[0m\n\u001b[0;32m    663\u001b[0m                     \u001b[0mquery\u001b[0m\u001b[1;33m.\u001b[0m\u001b[0m_current_path\u001b[0m\u001b[1;33m,\u001b[0m\u001b[1;33m\u001b[0m\u001b[1;33m\u001b[0m\u001b[0m\n\u001b[0;32m    664\u001b[0m                     \u001b[0mquery\u001b[0m\u001b[1;33m.\u001b[0m\u001b[0m_attributes\u001b[0m\u001b[1;33m,\u001b[0m\u001b[1;33m\u001b[0m\u001b[1;33m\u001b[0m\u001b[0m\n\u001b[1;32m--> 665\u001b[1;33m                     \u001b[0mraiseerr\u001b[0m\u001b[1;33m,\u001b[0m\u001b[1;33m\u001b[0m\u001b[1;33m\u001b[0m\u001b[0m\n\u001b[0m\u001b[0;32m    666\u001b[0m                 )\n\u001b[0;32m    667\u001b[0m \u001b[1;33m\u001b[0m\u001b[0m\n",
      "\u001b[1;32mD:\\anaconda2\\envs\\sweng\\lib\\site-packages\\sqlalchemy\\orm\\strategy_options.py\u001b[0m in \u001b[0;36m_bind_loader\u001b[1;34m(self, entities, current_path, context, raiseerr)\u001b[0m\n\u001b[0;32m    843\u001b[0m                     \u001b[0mself\u001b[0m\u001b[1;33m.\u001b[0m\u001b[0mstrategy\u001b[0m \u001b[1;32mif\u001b[0m \u001b[0midx\u001b[0m \u001b[1;33m==\u001b[0m \u001b[0mlen\u001b[0m\u001b[1;33m(\u001b[0m\u001b[0mstart_path\u001b[0m\u001b[1;33m)\u001b[0m \u001b[1;33m-\u001b[0m \u001b[1;36m1\u001b[0m \u001b[1;32melse\u001b[0m \u001b[1;32mNone\u001b[0m\u001b[1;33m,\u001b[0m\u001b[1;33m\u001b[0m\u001b[1;33m\u001b[0m\u001b[0m\n\u001b[0;32m    844\u001b[0m                     \u001b[1;32mNone\u001b[0m\u001b[1;33m,\u001b[0m\u001b[1;33m\u001b[0m\u001b[1;33m\u001b[0m\u001b[0m\n\u001b[1;32m--> 845\u001b[1;33m                     \u001b[0mraiseerr\u001b[0m\u001b[1;33m,\u001b[0m\u001b[1;33m\u001b[0m\u001b[1;33m\u001b[0m\u001b[0m\n\u001b[0m\u001b[0;32m    846\u001b[0m                 ):\n\u001b[0;32m    847\u001b[0m                     \u001b[1;32mreturn\u001b[0m\u001b[1;33m\u001b[0m\u001b[1;33m\u001b[0m\u001b[0m\n",
      "\u001b[1;32mD:\\anaconda2\\envs\\sweng\\lib\\site-packages\\sqlalchemy\\orm\\strategy_options.py\u001b[0m in \u001b[0;36m_generate_path\u001b[1;34m(self, path, attr, for_strategy, wildcard_key, raiseerr)\u001b[0m\n\u001b[0;32m    230\u001b[0m                 \u001b[1;31m# use getattr on the class to work around\u001b[0m\u001b[1;33m\u001b[0m\u001b[1;33m\u001b[0m\u001b[1;33m\u001b[0m\u001b[0m\n\u001b[0;32m    231\u001b[0m                 \u001b[1;31m# synonyms, hybrids, etc.\u001b[0m\u001b[1;33m\u001b[0m\u001b[1;33m\u001b[0m\u001b[1;33m\u001b[0m\u001b[0m\n\u001b[1;32m--> 232\u001b[1;33m                 \u001b[0mattr\u001b[0m \u001b[1;33m=\u001b[0m \u001b[0mgetattr\u001b[0m\u001b[1;33m(\u001b[0m\u001b[0ment\u001b[0m\u001b[1;33m.\u001b[0m\u001b[0mclass_\u001b[0m\u001b[1;33m,\u001b[0m \u001b[0mattr\u001b[0m\u001b[1;33m)\u001b[0m\u001b[1;33m\u001b[0m\u001b[1;33m\u001b[0m\u001b[0m\n\u001b[0m\u001b[0;32m    233\u001b[0m             \u001b[1;32mexcept\u001b[0m \u001b[0mAttributeError\u001b[0m \u001b[1;32mas\u001b[0m \u001b[0merr\u001b[0m\u001b[1;33m:\u001b[0m\u001b[1;33m\u001b[0m\u001b[1;33m\u001b[0m\u001b[0m\n\u001b[0;32m    234\u001b[0m                 \u001b[1;32mif\u001b[0m \u001b[0mraiseerr\u001b[0m\u001b[1;33m:\u001b[0m\u001b[1;33m\u001b[0m\u001b[1;33m\u001b[0m\u001b[0m\n",
      "\u001b[1;32mD:\\anaconda2\\envs\\sweng\\lib\\site-packages\\sqlalchemy\\ext\\hybrid.py\u001b[0m in \u001b[0;36m__get__\u001b[1;34m(self, instance, owner)\u001b[0m\n\u001b[0;32m    895\u001b[0m     \u001b[1;32mdef\u001b[0m \u001b[0m__get__\u001b[0m\u001b[1;33m(\u001b[0m\u001b[0mself\u001b[0m\u001b[1;33m,\u001b[0m \u001b[0minstance\u001b[0m\u001b[1;33m,\u001b[0m \u001b[0mowner\u001b[0m\u001b[1;33m)\u001b[0m\u001b[1;33m:\u001b[0m\u001b[1;33m\u001b[0m\u001b[1;33m\u001b[0m\u001b[0m\n\u001b[0;32m    896\u001b[0m         \u001b[1;32mif\u001b[0m \u001b[0minstance\u001b[0m \u001b[1;32mis\u001b[0m \u001b[1;32mNone\u001b[0m\u001b[1;33m:\u001b[0m\u001b[1;33m\u001b[0m\u001b[1;33m\u001b[0m\u001b[0m\n\u001b[1;32m--> 897\u001b[1;33m             \u001b[1;32mreturn\u001b[0m \u001b[0mself\u001b[0m\u001b[1;33m.\u001b[0m\u001b[0m_expr_comparator\u001b[0m\u001b[1;33m(\u001b[0m\u001b[0mowner\u001b[0m\u001b[1;33m)\u001b[0m\u001b[1;33m\u001b[0m\u001b[1;33m\u001b[0m\u001b[0m\n\u001b[0m\u001b[0;32m    898\u001b[0m         \u001b[1;32melse\u001b[0m\u001b[1;33m:\u001b[0m\u001b[1;33m\u001b[0m\u001b[1;33m\u001b[0m\u001b[0m\n\u001b[0;32m    899\u001b[0m             \u001b[1;32mreturn\u001b[0m \u001b[0mself\u001b[0m\u001b[1;33m.\u001b[0m\u001b[0mfget\u001b[0m\u001b[1;33m(\u001b[0m\u001b[0minstance\u001b[0m\u001b[1;33m)\u001b[0m\u001b[1;33m\u001b[0m\u001b[1;33m\u001b[0m\u001b[0m\n",
      "\u001b[1;32mD:\\anaconda2\\envs\\sweng\\lib\\site-packages\\sqlalchemy\\ext\\hybrid.py\u001b[0m in \u001b[0;36mexpr_comparator\u001b[1;34m(owner)\u001b[0m\n\u001b[0;32m   1102\u001b[0m                 \u001b[0mself\u001b[0m\u001b[1;33m.\u001b[0m\u001b[0m__name__\u001b[0m\u001b[1;33m,\u001b[0m\u001b[1;33m\u001b[0m\u001b[1;33m\u001b[0m\u001b[0m\n\u001b[0;32m   1103\u001b[0m                 \u001b[0mself\u001b[0m\u001b[1;33m,\u001b[0m\u001b[1;33m\u001b[0m\u001b[1;33m\u001b[0m\u001b[0m\n\u001b[1;32m-> 1104\u001b[1;33m                 \u001b[0mcomparator\u001b[0m\u001b[1;33m(\u001b[0m\u001b[0mowner\u001b[0m\u001b[1;33m)\u001b[0m\u001b[1;33m,\u001b[0m\u001b[1;33m\u001b[0m\u001b[1;33m\u001b[0m\u001b[0m\n\u001b[0m\u001b[0;32m   1105\u001b[0m                 \u001b[0mdoc\u001b[0m\u001b[1;33m=\u001b[0m\u001b[0mcomparator\u001b[0m\u001b[1;33m.\u001b[0m\u001b[0m__doc__\u001b[0m \u001b[1;32mor\u001b[0m \u001b[0mself\u001b[0m\u001b[1;33m.\u001b[0m\u001b[0m__doc__\u001b[0m\u001b[1;33m,\u001b[0m\u001b[1;33m\u001b[0m\u001b[1;33m\u001b[0m\u001b[0m\n\u001b[0;32m   1106\u001b[0m             )\n",
      "\u001b[1;32mD:\\anaconda2\\envs\\sweng\\lib\\site-packages\\sqlalchemy\\ext\\hybrid.py\u001b[0m in \u001b[0;36m_expr\u001b[1;34m(cls)\u001b[0m\n\u001b[0;32m   1087\u001b[0m     \u001b[1;32mdef\u001b[0m \u001b[0m_get_expr\u001b[0m\u001b[1;33m(\u001b[0m\u001b[0mself\u001b[0m\u001b[1;33m,\u001b[0m \u001b[0mexpr\u001b[0m\u001b[1;33m)\u001b[0m\u001b[1;33m:\u001b[0m\u001b[1;33m\u001b[0m\u001b[1;33m\u001b[0m\u001b[0m\n\u001b[0;32m   1088\u001b[0m         \u001b[1;32mdef\u001b[0m \u001b[0m_expr\u001b[0m\u001b[1;33m(\u001b[0m\u001b[0mcls\u001b[0m\u001b[1;33m)\u001b[0m\u001b[1;33m:\u001b[0m\u001b[1;33m\u001b[0m\u001b[1;33m\u001b[0m\u001b[0m\n\u001b[1;32m-> 1089\u001b[1;33m             \u001b[1;32mreturn\u001b[0m \u001b[0mExprComparator\u001b[0m\u001b[1;33m(\u001b[0m\u001b[0mcls\u001b[0m\u001b[1;33m,\u001b[0m \u001b[0mexpr\u001b[0m\u001b[1;33m(\u001b[0m\u001b[0mcls\u001b[0m\u001b[1;33m)\u001b[0m\u001b[1;33m,\u001b[0m \u001b[0mself\u001b[0m\u001b[1;33m)\u001b[0m\u001b[1;33m\u001b[0m\u001b[1;33m\u001b[0m\u001b[0m\n\u001b[0m\u001b[0;32m   1090\u001b[0m \u001b[1;33m\u001b[0m\u001b[0m\n\u001b[0;32m   1091\u001b[0m         \u001b[0mutil\u001b[0m\u001b[1;33m.\u001b[0m\u001b[0mupdate_wrapper\u001b[0m\u001b[1;33m(\u001b[0m\u001b[0m_expr\u001b[0m\u001b[1;33m,\u001b[0m \u001b[0mexpr\u001b[0m\u001b[1;33m)\u001b[0m\u001b[1;33m\u001b[0m\u001b[1;33m\u001b[0m\u001b[0m\n",
      "\u001b[1;32md:\\Jaganadh_Gopinadhan\\SwEngDs\\codes\\dengsqlalch\\models\\modes.py\u001b[0m in \u001b[0;36mtotal_cost\u001b[1;34m(cls)\u001b[0m\n\u001b[0;32m     74\u001b[0m     \u001b[1;33m@\u001b[0m\u001b[0mtotal_cost\u001b[0m\u001b[1;33m.\u001b[0m\u001b[0mexpression\u001b[0m\u001b[1;33m\u001b[0m\u001b[1;33m\u001b[0m\u001b[0m\n\u001b[0;32m     75\u001b[0m     \u001b[1;32mdef\u001b[0m \u001b[0mtotal_cost\u001b[0m\u001b[1;33m(\u001b[0m\u001b[0mcls\u001b[0m\u001b[1;33m)\u001b[0m \u001b[1;33m->\u001b[0m \u001b[0mfloat\u001b[0m\u001b[1;33m:\u001b[0m\u001b[1;33m\u001b[0m\u001b[1;33m\u001b[0m\u001b[0m\n\u001b[1;32m---> 76\u001b[1;33m         \u001b[0mtotal_cost\u001b[0m\u001b[1;33m.\u001b[0m\u001b[0m__setattr__\u001b[0m\u001b[1;33m(\u001b[0m\u001b[1;34m\"property\"\u001b[0m\u001b[1;33m,\u001b[0m \u001b[1;34m\"None\"\u001b[0m\u001b[1;33m)\u001b[0m\u001b[1;33m\u001b[0m\u001b[1;33m\u001b[0m\u001b[0m\n\u001b[0m\u001b[0;32m     77\u001b[0m         \u001b[1;32mreturn\u001b[0m \u001b[0mtype_coerce\u001b[0m\u001b[1;33m(\u001b[0m\u001b[0mcls\u001b[0m\u001b[1;33m.\u001b[0m\u001b[0mquantity\u001b[0m \u001b[1;33m*\u001b[0m \u001b[0mcls\u001b[0m\u001b[1;33m.\u001b[0m\u001b[0mprice\u001b[0m\u001b[1;33m)\u001b[0m\u001b[1;33m\u001b[0m\u001b[1;33m\u001b[0m\u001b[0m\n\u001b[0;32m     78\u001b[0m \u001b[1;33m\u001b[0m\u001b[0m\n",
      "\u001b[1;31mNameError\u001b[0m: name 'total_cost' is not defined"
     ]
    }
   ],
   "source": [
    "from sqlalchemy.orm import load_only \n",
    "fields = ['invoice','stock_code','price','total_cost']\n",
    "\n",
    "with PgSQLConnector(connection_conf) as pgsql:\n",
    "    mq = pgsql.db_session.query(RetailData).options(load_only(*fields)).limit(10)\n",
    "    data = pd.read_sql(mq.statement,mq.session.bind)"
   ]
  },
  {
   "cell_type": "code",
   "execution_count": null,
   "metadata": {},
   "outputs": [],
   "source": []
  }
 ]
}