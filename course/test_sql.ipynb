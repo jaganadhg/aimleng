{
 "metadata": {
  "language_info": {
   "codemirror_mode": {
    "name": "ipython",
    "version": 3
   },
   "file_extension": ".py",
   "mimetype": "text/x-python",
   "name": "python",
   "nbconvert_exporter": "python",
   "pygments_lexer": "ipython3",
   "version": "3.6.12-final"
  },
  "orig_nbformat": 2,
  "kernelspec": {
   "name": "Python 3.6.12 64-bit ('sweng': conda)",
   "display_name": "Python 3.6.12 64-bit ('sweng': conda)",
   "metadata": {
    "interpreter": {
     "hash": "143454d33e1ddccd38039a53995fb84978940c51a2c73edb41e217b40f411de2"
    }
   }
  }
 },
 "nbformat": 4,
 "nbformat_minor": 2,
 "cells": [
  {
   "cell_type": "code",
   "execution_count": 1,
   "metadata": {},
   "outputs": [],
   "source": [
    "import pandas as pd\n",
    "from utils import PgSQLConnector\n",
    "from models import RetailDataUCI\n",
    "import yaml "
   ]
  },
  {
   "cell_type": "code",
   "execution_count": 3,
   "metadata": {},
   "outputs": [],
   "source": [
    "with open(\"secrets/creds.yaml\",'r') as yml:\n",
    "    conf = yaml.safe_load(yml)"
   ]
  },
  {
   "cell_type": "code",
   "execution_count": 4,
   "metadata": {},
   "outputs": [],
   "source": [
    "with PgSQLConnector(conf) as pgsql:\n",
    "    test_data = pgsql.db_session.query(RetailDataUCI).limit(10).all()"
   ]
  },
  {
   "cell_type": "code",
   "execution_count": 5,
   "metadata": {},
   "outputs": [
    {
     "output_type": "execute_result",
     "data": {
      "text/plain": [
       "[<models.model.RetailDataUCI at 0x14d827b90b8>,\n",
       " <models.model.RetailDataUCI at 0x14d827b9748>,\n",
       " <models.model.RetailDataUCI at 0x14d827b9240>,\n",
       " <models.model.RetailDataUCI at 0x14d827b9518>,\n",
       " <models.model.RetailDataUCI at 0x14d82545dd8>,\n",
       " <models.model.RetailDataUCI at 0x14d82545b38>,\n",
       " <models.model.RetailDataUCI at 0x14d82545e80>,\n",
       " <models.model.RetailDataUCI at 0x14d82545940>,\n",
       " <models.model.RetailDataUCI at 0x14d82545748>,\n",
       " <models.model.RetailDataUCI at 0x14d82545550>]"
      ]
     },
     "metadata": {},
     "execution_count": 5
    }
   ],
   "source": [
    "test_data"
   ]
  },
  {
   "cell_type": "code",
   "execution_count": 7,
   "metadata": {},
   "outputs": [
    {
     "output_type": "execute_result",
     "data": {
      "text/plain": [
       "{'_sa_instance_state': <sqlalchemy.orm.state.InstanceState at 0x14d827b9080>,\n",
       " 'price': 18.0,\n",
       " 'quantity': 1,\n",
       " 'stock_code': 'POST',\n",
       " 'hash_key': '5c0ac5f2d7a9852209edc4209947a3be',\n",
       " 'cust_id': 12481,\n",
       " 'invoice_date': datetime.datetime(2010, 12, 9, 10, 13),\n",
       " 'description': 'POSTAGE',\n",
       " 'invoice': '537892',\n",
       " 'country': 'Germany'}"
      ]
     },
     "metadata": {},
     "execution_count": 7
    }
   ],
   "source": [
    "test_data[0].__dict__"
   ]
  },
  {
   "cell_type": "code",
   "execution_count": 8,
   "metadata": {},
   "outputs": [],
   "source": [
    "with PgSQLConnector(conf) as pgsql:\n",
    "    test_data_sel = pgsql.db_session.query(RetailDataUCI.invoice,\n",
    "    RetailDataUCI.country).limit(10).all()"
   ]
  },
  {
   "cell_type": "code",
   "execution_count": 9,
   "metadata": {},
   "outputs": [
    {
     "output_type": "execute_result",
     "data": {
      "text/plain": [
       "[('538177', 'United Kingdom'),\n",
       " ('566787', 'United Kingdom'),\n",
       " ('538198', 'United Kingdom'),\n",
       " ('538201', 'United Kingdom'),\n",
       " ('538204', 'United Kingdom'),\n",
       " ('538241', 'United Kingdom'),\n",
       " ('538311', 'Portugal'),\n",
       " ('538313', 'United Kingdom'),\n",
       " ('538356', 'United Kingdom'),\n",
       " ('538369', 'United Kingdom')]"
      ]
     },
     "metadata": {},
     "execution_count": 9
    }
   ],
   "source": [
    "test_data_sel"
   ]
  },
  {
   "cell_type": "code",
   "execution_count": 13,
   "metadata": {},
   "outputs": [],
   "source": [
    "with PgSQLConnector(conf) as pgsql:\n",
    "    df = pd.read_sql(\"SELECT * FROM retail_store limit 10\",pgsql.engine)"
   ]
  },
  {
   "cell_type": "code",
   "execution_count": 14,
   "metadata": {},
   "outputs": [
    {
     "output_type": "execute_result",
     "data": {
      "text/plain": [
       "  invoice stock_code                    description  quantity  \\\n",
       "0  567184      35970      ZINC FOLKART SLEIGH BELLS         1   \n",
       "1  567211      23298                 SPOTTY BUNTING         1   \n",
       "2  538566      90192  JADE DROP EARRINGS W FILIGREE         1   \n",
       "3  538625      21830       ASSORTED CREEPY CRAWLIES        24   \n",
       "4  567363      23028                           None       -49   \n",
       "\n",
       "         invoice_date  price  cust_id         country  \\\n",
       "0 2011-09-18 15:41:00   1.69  16033.0  United Kingdom   \n",
       "1 2011-09-19 11:02:00   4.95  14159.0  United Kingdom   \n",
       "2 2010-12-13 11:21:00   5.09      NaN  United Kingdom   \n",
       "3 2010-12-13 12:50:00   0.42  14544.0  United Kingdom   \n",
       "4 2011-09-19 16:58:00   0.00      NaN  United Kingdom   \n",
       "\n",
       "                           hash_key  \n",
       "0  1f510c446869cbefe70937a6cd5b9604  \n",
       "1  ab7bb95f1387fbde95986c0bb16502a1  \n",
       "2  66be1f1106f32f320cf967549e65cc19  \n",
       "3  dbd7dd2c1fa1cad21c3e04a00877e95f  \n",
       "4  f43e8b8ed588ab67bdf4d905ef39d0fb  "
      ],
      "text/html": "<div>\n<style scoped>\n    .dataframe tbody tr th:only-of-type {\n        vertical-align: middle;\n    }\n\n    .dataframe tbody tr th {\n        vertical-align: top;\n    }\n\n    .dataframe thead th {\n        text-align: right;\n    }\n</style>\n<table border=\"1\" class=\"dataframe\">\n  <thead>\n    <tr style=\"text-align: right;\">\n      <th></th>\n      <th>invoice</th>\n      <th>stock_code</th>\n      <th>description</th>\n      <th>quantity</th>\n      <th>invoice_date</th>\n      <th>price</th>\n      <th>cust_id</th>\n      <th>country</th>\n      <th>hash_key</th>\n    </tr>\n  </thead>\n  <tbody>\n    <tr>\n      <th>0</th>\n      <td>567184</td>\n      <td>35970</td>\n      <td>ZINC FOLKART SLEIGH BELLS</td>\n      <td>1</td>\n      <td>2011-09-18 15:41:00</td>\n      <td>1.69</td>\n      <td>16033.0</td>\n      <td>United Kingdom</td>\n      <td>1f510c446869cbefe70937a6cd5b9604</td>\n    </tr>\n    <tr>\n      <th>1</th>\n      <td>567211</td>\n      <td>23298</td>\n      <td>SPOTTY BUNTING</td>\n      <td>1</td>\n      <td>2011-09-19 11:02:00</td>\n      <td>4.95</td>\n      <td>14159.0</td>\n      <td>United Kingdom</td>\n      <td>ab7bb95f1387fbde95986c0bb16502a1</td>\n    </tr>\n    <tr>\n      <th>2</th>\n      <td>538566</td>\n      <td>90192</td>\n      <td>JADE DROP EARRINGS W FILIGREE</td>\n      <td>1</td>\n      <td>2010-12-13 11:21:00</td>\n      <td>5.09</td>\n      <td>NaN</td>\n      <td>United Kingdom</td>\n      <td>66be1f1106f32f320cf967549e65cc19</td>\n    </tr>\n    <tr>\n      <th>3</th>\n      <td>538625</td>\n      <td>21830</td>\n      <td>ASSORTED CREEPY CRAWLIES</td>\n      <td>24</td>\n      <td>2010-12-13 12:50:00</td>\n      <td>0.42</td>\n      <td>14544.0</td>\n      <td>United Kingdom</td>\n      <td>dbd7dd2c1fa1cad21c3e04a00877e95f</td>\n    </tr>\n    <tr>\n      <th>4</th>\n      <td>567363</td>\n      <td>23028</td>\n      <td>None</td>\n      <td>-49</td>\n      <td>2011-09-19 16:58:00</td>\n      <td>0.00</td>\n      <td>NaN</td>\n      <td>United Kingdom</td>\n      <td>f43e8b8ed588ab67bdf4d905ef39d0fb</td>\n    </tr>\n  </tbody>\n</table>\n</div>"
     },
     "metadata": {},
     "execution_count": 14
    }
   ],
   "source": [
    "df.head()"
   ]
  },
  {
   "cell_type": "code",
   "execution_count": 19,
   "metadata": {},
   "outputs": [],
   "source": [
    "with PgSQLConnector(conf) as pgsql:\n",
    "    my_query = pgsql.db_session.query(RetailDataUCI).limit(10)\n",
    "    qdf = pd.read_sql(my_query.statement,my_query.session.bind)"
   ]
  },
  {
   "cell_type": "code",
   "execution_count": 20,
   "metadata": {},
   "outputs": [
    {
     "output_type": "execute_result",
     "data": {
      "text/plain": [
       "  invoice stock_code         description  quantity        invoice_date  price  \\\n",
       "0  567526      22625  RED KITCHEN SCALES        48 2011-09-21 09:06:00   7.65   \n",
       "1  567533      22652   TRAVEL SEWING KIT        10 2011-09-21 09:45:00   1.65   \n",
       "2  567552       POST             POSTAGE         3 2011-09-21 10:40:00  18.00   \n",
       "3  567578      23445   ICE CREAM BUBBLES        20 2011-09-21 10:47:00   0.83   \n",
       "4  567616         C2            CARRIAGE         1 2011-09-21 12:23:00  50.00   \n",
       "\n",
       "   cust_id         country                          hash_key  \n",
       "0  12435.0         Denmark  49930cade0a39bdbc0234e5c28d498f6  \n",
       "1  17651.0  United Kingdom  ff32d92b4a5ddb7717627d9238cd85f0  \n",
       "2  12583.0          France  4d9c16df1a2715e036b62be3b9a4bd46  \n",
       "3  12701.0         Germany  29172a82503d484648321bc5cf2478c3  \n",
       "4  14911.0            EIRE  f734608ffd976316e4899f80dcae7cd5  "
      ],
      "text/html": "<div>\n<style scoped>\n    .dataframe tbody tr th:only-of-type {\n        vertical-align: middle;\n    }\n\n    .dataframe tbody tr th {\n        vertical-align: top;\n    }\n\n    .dataframe thead th {\n        text-align: right;\n    }\n</style>\n<table border=\"1\" class=\"dataframe\">\n  <thead>\n    <tr style=\"text-align: right;\">\n      <th></th>\n      <th>invoice</th>\n      <th>stock_code</th>\n      <th>description</th>\n      <th>quantity</th>\n      <th>invoice_date</th>\n      <th>price</th>\n      <th>cust_id</th>\n      <th>country</th>\n      <th>hash_key</th>\n    </tr>\n  </thead>\n  <tbody>\n    <tr>\n      <th>0</th>\n      <td>567526</td>\n      <td>22625</td>\n      <td>RED KITCHEN SCALES</td>\n      <td>48</td>\n      <td>2011-09-21 09:06:00</td>\n      <td>7.65</td>\n      <td>12435.0</td>\n      <td>Denmark</td>\n      <td>49930cade0a39bdbc0234e5c28d498f6</td>\n    </tr>\n    <tr>\n      <th>1</th>\n      <td>567533</td>\n      <td>22652</td>\n      <td>TRAVEL SEWING KIT</td>\n      <td>10</td>\n      <td>2011-09-21 09:45:00</td>\n      <td>1.65</td>\n      <td>17651.0</td>\n      <td>United Kingdom</td>\n      <td>ff32d92b4a5ddb7717627d9238cd85f0</td>\n    </tr>\n    <tr>\n      <th>2</th>\n      <td>567552</td>\n      <td>POST</td>\n      <td>POSTAGE</td>\n      <td>3</td>\n      <td>2011-09-21 10:40:00</td>\n      <td>18.00</td>\n      <td>12583.0</td>\n      <td>France</td>\n      <td>4d9c16df1a2715e036b62be3b9a4bd46</td>\n    </tr>\n    <tr>\n      <th>3</th>\n      <td>567578</td>\n      <td>23445</td>\n      <td>ICE CREAM BUBBLES</td>\n      <td>20</td>\n      <td>2011-09-21 10:47:00</td>\n      <td>0.83</td>\n      <td>12701.0</td>\n      <td>Germany</td>\n      <td>29172a82503d484648321bc5cf2478c3</td>\n    </tr>\n    <tr>\n      <th>4</th>\n      <td>567616</td>\n      <td>C2</td>\n      <td>CARRIAGE</td>\n      <td>1</td>\n      <td>2011-09-21 12:23:00</td>\n      <td>50.00</td>\n      <td>14911.0</td>\n      <td>EIRE</td>\n      <td>f734608ffd976316e4899f80dcae7cd5</td>\n    </tr>\n  </tbody>\n</table>\n</div>"
     },
     "metadata": {},
     "execution_count": 20
    }
   ],
   "source": [
    "qdf.head()"
   ]
  },
  {
   "cell_type": "code",
   "execution_count": 22,
   "metadata": {},
   "outputs": [],
   "source": [
    "qdf['total_val'] = qdf.price * qdf.quantity"
   ]
  },
  {
   "cell_type": "code",
   "execution_count": 23,
   "metadata": {},
   "outputs": [
    {
     "output_type": "execute_result",
     "data": {
      "text/plain": [
       "  invoice stock_code         description  quantity        invoice_date  price  \\\n",
       "0  567526      22625  RED KITCHEN SCALES        48 2011-09-21 09:06:00   7.65   \n",
       "1  567533      22652   TRAVEL SEWING KIT        10 2011-09-21 09:45:00   1.65   \n",
       "2  567552       POST             POSTAGE         3 2011-09-21 10:40:00  18.00   \n",
       "3  567578      23445   ICE CREAM BUBBLES        20 2011-09-21 10:47:00   0.83   \n",
       "4  567616         C2            CARRIAGE         1 2011-09-21 12:23:00  50.00   \n",
       "\n",
       "   cust_id         country                          hash_key  total_val  \n",
       "0  12435.0         Denmark  49930cade0a39bdbc0234e5c28d498f6      367.2  \n",
       "1  17651.0  United Kingdom  ff32d92b4a5ddb7717627d9238cd85f0       16.5  \n",
       "2  12583.0          France  4d9c16df1a2715e036b62be3b9a4bd46       54.0  \n",
       "3  12701.0         Germany  29172a82503d484648321bc5cf2478c3       16.6  \n",
       "4  14911.0            EIRE  f734608ffd976316e4899f80dcae7cd5       50.0  "
      ],
      "text/html": "<div>\n<style scoped>\n    .dataframe tbody tr th:only-of-type {\n        vertical-align: middle;\n    }\n\n    .dataframe tbody tr th {\n        vertical-align: top;\n    }\n\n    .dataframe thead th {\n        text-align: right;\n    }\n</style>\n<table border=\"1\" class=\"dataframe\">\n  <thead>\n    <tr style=\"text-align: right;\">\n      <th></th>\n      <th>invoice</th>\n      <th>stock_code</th>\n      <th>description</th>\n      <th>quantity</th>\n      <th>invoice_date</th>\n      <th>price</th>\n      <th>cust_id</th>\n      <th>country</th>\n      <th>hash_key</th>\n      <th>total_val</th>\n    </tr>\n  </thead>\n  <tbody>\n    <tr>\n      <th>0</th>\n      <td>567526</td>\n      <td>22625</td>\n      <td>RED KITCHEN SCALES</td>\n      <td>48</td>\n      <td>2011-09-21 09:06:00</td>\n      <td>7.65</td>\n      <td>12435.0</td>\n      <td>Denmark</td>\n      <td>49930cade0a39bdbc0234e5c28d498f6</td>\n      <td>367.2</td>\n    </tr>\n    <tr>\n      <th>1</th>\n      <td>567533</td>\n      <td>22652</td>\n      <td>TRAVEL SEWING KIT</td>\n      <td>10</td>\n      <td>2011-09-21 09:45:00</td>\n      <td>1.65</td>\n      <td>17651.0</td>\n      <td>United Kingdom</td>\n      <td>ff32d92b4a5ddb7717627d9238cd85f0</td>\n      <td>16.5</td>\n    </tr>\n    <tr>\n      <th>2</th>\n      <td>567552</td>\n      <td>POST</td>\n      <td>POSTAGE</td>\n      <td>3</td>\n      <td>2011-09-21 10:40:00</td>\n      <td>18.00</td>\n      <td>12583.0</td>\n      <td>France</td>\n      <td>4d9c16df1a2715e036b62be3b9a4bd46</td>\n      <td>54.0</td>\n    </tr>\n    <tr>\n      <th>3</th>\n      <td>567578</td>\n      <td>23445</td>\n      <td>ICE CREAM BUBBLES</td>\n      <td>20</td>\n      <td>2011-09-21 10:47:00</td>\n      <td>0.83</td>\n      <td>12701.0</td>\n      <td>Germany</td>\n      <td>29172a82503d484648321bc5cf2478c3</td>\n      <td>16.6</td>\n    </tr>\n    <tr>\n      <th>4</th>\n      <td>567616</td>\n      <td>C2</td>\n      <td>CARRIAGE</td>\n      <td>1</td>\n      <td>2011-09-21 12:23:00</td>\n      <td>50.00</td>\n      <td>14911.0</td>\n      <td>EIRE</td>\n      <td>f734608ffd976316e4899f80dcae7cd5</td>\n      <td>50.0</td>\n    </tr>\n  </tbody>\n</table>\n</div>"
     },
     "metadata": {},
     "execution_count": 23
    }
   ],
   "source": [
    "qdf.head()"
   ]
  },
  {
   "cell_type": "code",
   "execution_count": null,
   "metadata": {},
   "outputs": [],
   "source": []
  }
 ]
}